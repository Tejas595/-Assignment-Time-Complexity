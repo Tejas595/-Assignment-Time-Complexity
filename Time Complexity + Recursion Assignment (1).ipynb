{
 "cells": [
  {
   "cell_type": "markdown",
   "metadata": {},
   "source": [
    "Problem 1 :\n",
    "def quicksort(arr):\n",
    "if len(arr) <= 1:\n",
    "return arr\n",
    "pivot = arr[len(arr) // 2]\n",
    "left = [x for x in arr if x < pivot]\n",
    "middle = [x for x in arr if x == pivot]\n",
    "right = [x for x in arr if x > pivot]\n",
    "return quicksort(left) + middle + quicksort(right)"
   ]
  },
  {
   "cell_type": "markdown",
   "metadata": {},
   "source": [
    "Sol)\n",
    "time complexity for avg and best case : O(nlogn)\n",
    "    time complexity for worst case: O(n^2)"
   ]
  },
  {
   "cell_type": "markdown",
   "metadata": {},
   "source": [
    "\\Problem 2 :\n",
    "def nested_loop_example(matrix):\n",
    "rows, cols = len(matrix), len(matrix[0])\n",
    "total = 0\n",
    "for i in range(rows):\n",
    "for j in range(cols):\n",
    "total += matrix[i][j]\n",
    "return total"
   ]
  },
  {
   "cell_type": "markdown",
   "metadata": {},
   "source": [
    "Sol)  O(m x n)"
   ]
  },
  {
   "cell_type": "markdown",
   "metadata": {},
   "source": [
    "Problem 3 :\n",
    "def example_function(arr):\n",
    "result = 0\n",
    "for element in arr:\n",
    "result += element\n",
    "return result"
   ]
  },
  {
   "cell_type": "markdown",
   "metadata": {},
   "source": [
    "sol) O(n)"
   ]
  },
  {
   "cell_type": "markdown",
   "metadata": {},
   "source": [
    "Problem 4 :\n",
    "def longest_increasing_subsequence(nums):\n",
    "n = len(nums)\n",
    "lis = [1] * n\n",
    "for i in range(1, n):\n",
    "for j in range(0, i):\n",
    "if nums[i] > nums[j] and lis[i] < lis[j] + 1:\n",
    "lis[i] = lis[j] + 1\n",
    "return max(lis)"
   ]
  },
  {
   "cell_type": "markdown",
   "metadata": {},
   "source": [
    "Sol) O(n^2)"
   ]
  },
  {
   "cell_type": "markdown",
   "metadata": {},
   "source": []
  },
  {
   "cell_type": "markdown",
   "metadata": {},
   "source": [
    "Problem 5 :\n",
    "def mysterious_function(arr):\n",
    "n = len(arr)\n",
    "result = 0\n",
    "for i in range(n):\n",
    "for j in range(i, n):\n",
    "result += arr[i] * arr[j]\n",
    "return result"
   ]
  },
  {
   "cell_type": "markdown",
   "metadata": {},
   "source": [
    "sol) O(n^2)"
   ]
  },
  {
   "cell_type": "markdown",
   "metadata": {},
   "source": [
    "RECURSION"
   ]
  },
  {
   "cell_type": "markdown",
   "metadata": {},
   "source": [
    "Problem 6 : Sum of Digits\n",
    "Write a recursive function to calculate the sum of digits of a given positive integer.\n",
    "sum_of_digits(123) -> 6"
   ]
  },
  {
   "cell_type": "code",
   "execution_count": 1,
   "metadata": {},
   "outputs": [
    {
     "name": "stdout",
     "output_type": "stream",
     "text": [
      "6\n"
     ]
    }
   ],
   "source": [
    "def sum_of_digits(n):\n",
    "    # Base case: if n is a single digit, return n\n",
    "    if n < 10:\n",
    "        return n\n",
    "    # Recursive case: sum the last digit and call the function recursively on the rest of the number\n",
    "    else:\n",
    "        return n % 10 + sum_of_digits(n // 10)\n",
    "\n",
    "# Example usage\n",
    "print(sum_of_digits(123))  # Output: 6\n"
   ]
  },
  {
   "cell_type": "markdown",
   "metadata": {},
   "source": [
    "Problem 7: Fibonacci Series\n",
    "Write a recursive function to generate the first n numbers of the Fibonacci series.\n",
    "fibonacci_series(6) -> [0, 1, 1, 2, 3, 5]"
   ]
  },
  {
   "cell_type": "code",
   "execution_count": 2,
   "metadata": {},
   "outputs": [
    {
     "name": "stdout",
     "output_type": "stream",
     "text": [
      "[0, 1, 1, 2, 3, 5]\n"
     ]
    }
   ],
   "source": [
    "def fibonacci_series(n):\n",
    "    if n <= 0:\n",
    "        return []\n",
    "    elif n == 1:\n",
    "        return [0]\n",
    "    elif n == 2:\n",
    "        return [0, 1]\n",
    "    else:\n",
    "        # Recursive case: generate the Fibonacci series up to n-1 and append the sum of the last two elements\n",
    "        fib_series = fibonacci_series(n - 1)\n",
    "        fib_series.append(fib_series[-1] + fib_series[-2])\n",
    "        return fib_series\n",
    "\n",
    "# Example usage\n",
    "print(fibonacci_series(6))  # Output: [0, 1, 1, 2, 3, 5]\n"
   ]
  },
  {
   "cell_type": "markdown",
   "metadata": {},
   "source": [
    "Problem 8 : Subset Sum\n",
    "Given a set of positive integers and a target sum, write a recursive function to determine if there exists a subset\n",
    "of the integers that adds up to the target sum.\n",
    "subset_sum([3, 34, 4, 12, 5, 2], 9) -> True"
   ]
  },
  {
   "cell_type": "code",
   "execution_count": 3,
   "metadata": {},
   "outputs": [
    {
     "name": "stdout",
     "output_type": "stream",
     "text": [
      "True\n"
     ]
    }
   ],
   "source": [
    "def subset_sum(nums, target):\n",
    "    # Recursive helper function\n",
    "    def is_subset_sum(nums, target, index):\n",
    "        # Base cases\n",
    "        if target == 0:\n",
    "            return True\n",
    "        if index >= len(nums):\n",
    "            return False\n",
    "        # Recursive cases: include or exclude the current number in the subset\n",
    "        include_current = is_subset_sum(nums, target - nums[index], index + 1)\n",
    "        exclude_current = is_subset_sum(nums, target, index + 1)\n",
    "        return include_current or exclude_current\n",
    "\n",
    "    # Call the helper function starting from index 0\n",
    "    return is_subset_sum(nums, target, 0)\n",
    "\n",
    "# Example usage\n",
    "print(subset_sum([3, 34, 4, 12, 5, 2], 9))  # Output: True\n"
   ]
  },
  {
   "cell_type": "markdown",
   "metadata": {},
   "source": [
    "Problem 9: Word Break\n",
    "Given a non-empty string and a dictionary of words, write a recursive function to determine if the string can be\n",
    "segmented into a space-separated sequence of dictionary words.\n",
    "word_break( leetcode , [ leet , code ]) -> True"
   ]
  },
  {
   "cell_type": "code",
   "execution_count": 4,
   "metadata": {},
   "outputs": [
    {
     "name": "stdout",
     "output_type": "stream",
     "text": [
      "True\n"
     ]
    }
   ],
   "source": [
    "def word_break(s, word_dict):\n",
    "    # Recursive helper function\n",
    "    def can_segment(s, word_dict):\n",
    "        # Base case: if the string is empty, it can be segmented\n",
    "        if not s:\n",
    "            return True\n",
    "        # Try to find a prefix of the string that is a word in the dictionary\n",
    "        for word in word_dict:\n",
    "            if s.startswith(word):\n",
    "                # If a prefix is found, recursively check the remaining substring\n",
    "                if can_segment(s[len(word):], word_dict):\n",
    "                    return True\n",
    "        # If no prefix is found, return False\n",
    "        return False\n",
    "\n",
    "    # Call the helper function to check if the string can be segmented\n",
    "    return can_segment(s, word_dict)\n",
    "\n",
    "# Example usage\n",
    "print(word_break(\"leetcode\", [\"leet\", \"code\"]))  # Output: True\n"
   ]
  },
  {
   "cell_type": "markdown",
   "metadata": {},
   "source": [
    "Problem 10 : N-Queens\n",
    "Implement a recursive function to solve the N Queens problem, where you have to place N queens on an N×N\n",
    "chessboard in such a way that no two queens threaten each other.\n",
    "n_queens(4)\n",
    "[\n",
    "[\".Q..\",\n",
    "\"...Q\",\n",
    "\"Q...\",\n",
    "\"..Q.\"],\n",
    "[\"..Q.\",\n",
    "\"Q...\",\n",
    "\"...Q\",\n",
    "\".Q..\"]\n",
    "]"
   ]
  },
  {
   "cell_type": "code",
   "execution_count": 5,
   "metadata": {},
   "outputs": [
    {
     "name": "stdout",
     "output_type": "stream",
     "text": [
      "[['.Q..', '...Q', 'Q...', '..Q.'], ['..Q.', 'Q...', '...Q', '.Q..']]\n"
     ]
    }
   ],
   "source": [
    "def n_queens(n):\n",
    "    # Initialize the chessboard as a list of lists filled with dots ('.') representing empty cells\n",
    "    chessboard = [['.' for _ in range(n)] for _ in range(n)]\n",
    "    # Initialize a list to store all solutions\n",
    "    solutions = []\n",
    "\n",
    "    # Helper function to check if placing a queen at row, col is safe\n",
    "    def is_safe(row, col):\n",
    "        # Check if there is any queen in the same column\n",
    "        for i in range(row):\n",
    "            if chessboard[i][col] == 'Q':\n",
    "                return False\n",
    "        # Check if there is any queen in the upper-left diagonal\n",
    "        for i, j in zip(range(row-1, -1, -1), range(col-1, -1, -1)):\n",
    "            if chessboard[i][j] == 'Q':\n",
    "                return False\n",
    "        # Check if there is any queen in the upper-right diagonal\n",
    "        for i, j in zip(range(row-1, -1, -1), range(col+1, n)):\n",
    "            if chessboard[i][j] == 'Q':\n",
    "                return False\n",
    "        return True\n",
    "\n",
    "    # Recursive function to place queens on the chessboard\n",
    "    def place_queen(row):\n",
    "        if row == n:\n",
    "            # Base case: if all queens are placed, add the current chessboard configuration to the solutions\n",
    "            solutions.append([\"\".join(row) for row in chessboard])\n",
    "            return\n",
    "        for col in range(n):\n",
    "            if is_safe(row, col):\n",
    "                # If it's safe to place a queen at (row, col), place it and move to the next row\n",
    "                chessboard[row][col] = 'Q'\n",
    "                place_queen(row + 1)\n",
    "                # Backtrack: remove the queen and try other positions\n",
    "                chessboard[row][col] = '.'\n",
    "\n",
    "    # Start with the first row (row = 0)\n",
    "    place_queen(0)\n",
    "    return solutions\n",
    "\n",
    "# Example usage\n",
    "print(n_queens(4))\n"
   ]
  },
  {
   "cell_type": "code",
   "execution_count": null,
   "metadata": {},
   "outputs": [],
   "source": []
  }
 ],
 "metadata": {
  "kernelspec": {
   "display_name": "Python 3",
   "language": "python",
   "name": "python3"
  },
  "language_info": {
   "codemirror_mode": {
    "name": "ipython",
    "version": 3
   },
   "file_extension": ".py",
   "mimetype": "text/x-python",
   "name": "python",
   "nbconvert_exporter": "python",
   "pygments_lexer": "ipython3",
   "version": "3.7.3"
  }
 },
 "nbformat": 4,
 "nbformat_minor": 2
}
